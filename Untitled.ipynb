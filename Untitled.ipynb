{
 "cells": [
  {
   "cell_type": "markdown",
   "id": "eefa8a68",
   "metadata": {},
   "source": [
    "# Generate or Load the Data"
   ]
  },
  {
   "cell_type": "code",
   "execution_count": 3,
   "id": "3b7f8c3f",
   "metadata": {},
   "outputs": [
    {
     "data": {
      "text/html": [
       "<div>\n",
       "<style scoped>\n",
       "    .dataframe tbody tr th:only-of-type {\n",
       "        vertical-align: middle;\n",
       "    }\n",
       "\n",
       "    .dataframe tbody tr th {\n",
       "        vertical-align: top;\n",
       "    }\n",
       "\n",
       "    .dataframe thead th {\n",
       "        text-align: right;\n",
       "    }\n",
       "</style>\n",
       "<table border=\"1\" class=\"dataframe\">\n",
       "  <thead>\n",
       "    <tr style=\"text-align: right;\">\n",
       "      <th></th>\n",
       "      <th>Group</th>\n",
       "      <th>Converted</th>\n",
       "    </tr>\n",
       "  </thead>\n",
       "  <tbody>\n",
       "    <tr>\n",
       "      <th>0</th>\n",
       "      <td>A</td>\n",
       "      <td>0</td>\n",
       "    </tr>\n",
       "    <tr>\n",
       "      <th>1</th>\n",
       "      <td>A</td>\n",
       "      <td>1</td>\n",
       "    </tr>\n",
       "    <tr>\n",
       "      <th>2</th>\n",
       "      <td>A</td>\n",
       "      <td>0</td>\n",
       "    </tr>\n",
       "    <tr>\n",
       "      <th>3</th>\n",
       "      <td>A</td>\n",
       "      <td>0</td>\n",
       "    </tr>\n",
       "    <tr>\n",
       "      <th>4</th>\n",
       "      <td>A</td>\n",
       "      <td>0</td>\n",
       "    </tr>\n",
       "  </tbody>\n",
       "</table>\n",
       "</div>"
      ],
      "text/plain": [
       "  Group  Converted\n",
       "0     A          0\n",
       "1     A          1\n",
       "2     A          0\n",
       "3     A          0\n",
       "4     A          0"
      ]
     },
     "execution_count": 3,
     "metadata": {},
     "output_type": "execute_result"
    }
   ],
   "source": [
    "import numpy as np\n",
    "import pandas as pd\n",
    "\n",
    "# Seed for reproducibility\n",
    "np.random.seed(42)\n",
    "\n",
    "# Simulate data\n",
    "n_A = 1000  # Number of users in group A\n",
    "n_B = 1000  # Number of users in group B\n",
    "\n",
    "# Conversion rates\n",
    "conversion_rate_A = 0.1\n",
    "conversion_rate_B = 0.12\n",
    "\n",
    "# Simulate conversions\n",
    "conversions_A = np.random.binomial(1, conversion_rate_A, n_A)\n",
    "conversions_B = np.random.binomial(1, conversion_rate_B, n_B)\n",
    "\n",
    "# Create a DataFrame\n",
    "data = pd.DataFrame({\n",
    "    'Group': ['A'] * n_A + ['B'] * n_B,\n",
    "    'Converted': np.concatenate([conversions_A, conversions_B])\n",
    "})\n",
    "\n",
    "data.head()"
   ]
  },
  {
   "cell_type": "markdown",
   "id": "12f9b9a4",
   "metadata": {},
   "source": [
    "# Perform Exploratory Data Analysis (EDA)"
   ]
  },
  {
   "cell_type": "code",
   "execution_count": 4,
   "id": "6d4d8859",
   "metadata": {},
   "outputs": [
    {
     "name": "stdout",
     "output_type": "stream",
     "text": [
      "  Group  Conversion_Rate  Total_Users  Total_Conversions\n",
      "0     A            0.100         1000                100\n",
      "1     B            0.112         1000                112\n"
     ]
    },
    {
     "data": {
      "image/png": "[encoded data removed]",
      "text/plain": [
       "<Figure size 640x480 with 1 Axes>"
      ]
     },
     "metadata": {},
     "output_type": "display_data"
    }
   ],
   "source": [
    "import matplotlib.pyplot as plt\n",
    "import seaborn as sns\n",
    "\n",
    "# Summary statistics\n",
    "summary = data.groupby('Group').agg(\n",
    "    Conversion_Rate=('Converted', 'mean'),\n",
    "    Total_Users=('Converted', 'count'),\n",
    "    Total_Conversions=('Converted', 'sum')\n",
    ").reset_index()\n",
    "\n",
    "print(summary)\n",
    "\n",
    "# Plotting the conversion rates\n",
    "sns.barplot(x='Group', y='Conversion_Rate', data=summary)\n",
    "plt.title('Conversion Rates by Group')\n",
    "plt.show()\n"
   ]
  },
  {
   "cell_type": "markdown",
   "id": "d60758a6",
   "metadata": {},
   "source": [
    "# Conduct a Statistical Test"
   ]
  },
  {
   "cell_type": "code",
   "execution_count": 5,
   "id": "f7a2a157",
   "metadata": {},
   "outputs": [
    {
     "name": "stdout",
     "output_type": "stream",
     "text": [
      "T-statistic: -0.8714\n",
      "P-value: 0.3836\n"
     ]
    }
   ],
   "source": [
    "from scipy.stats import ttest_ind\n",
    "\n",
    "# Separate the data into two groups\n",
    "group_A = data[data['Group'] == 'A']['Converted']\n",
    "group_B = data[data['Group'] == 'B']['Converted']\n",
    "\n",
    "# Perform an independent t-test\n",
    "t_stat, p_value = ttest_ind(group_A, group_B)\n",
    "\n",
    "print(f'T-statistic: {t_stat:.4f}')\n",
    "print(f'P-value: {p_value:.4f}')\n"
   ]
  },
  {
   "cell_type": "markdown",
   "id": "372f58ac",
   "metadata": {},
   "source": [
    "# Draw Actionable Insights"
   ]
  },
  {
   "cell_type": "code",
   "execution_count": 7,
   "id": "338c8984",
   "metadata": {},
   "outputs": [
    {
     "name": "stdout",
     "output_type": "stream",
     "text": [
      "Fail to reject the null hypothesis: There is no significant difference between the two groups.\n"
     ]
    }
   ],
   "source": [
    "alpha = 0.05  # Significance level\n",
    "\n",
    "if p_value < alpha:\n",
    "    print(\"Reject the null hypothesis: There is a significant difference between the two groups.\")\n",
    "    if summary.loc[summary['Group'] == 'A', 'Conversion_Rate'].values[0] < summary.loc[summary['Group'] == 'B', 'Conversion_Rate'].values[0]:\n",
    "        print(\"Group B has a significantly higher conversion rate than Group A.\")\n",
    "    else:\n",
    "        print(\"Group A has a significantly higher conversion rate than Group B.\")\n",
    "else:\n",
    "    print(\"Fail to reject the null hypothesis: There is no significant difference between the two groups.\")\n"
   ]
  },
  {
   "cell_type": "code",
   "execution_count": 8,
   "id": "72781a1e",
   "metadata": {},
   "outputs": [
    {
     "name": "stdout",
     "output_type": "stream",
     "text": [
      "  Group  Conversion_Rate  Total_Users  Total_Conversions\n",
      "0     A            0.100         1000                100\n",
      "1     B            0.112         1000                112\n"
     ]
    },
    {
     "data": {
      "image/png": "[encoded data removed]",
      "text/plain": [
       "<Figure size 640x480 with 1 Axes>"
      ]
     },
     "metadata": {},
     "output_type": "display_data"
    },
    {
     "name": "stdout",
     "output_type": "stream",
     "text": [
      "T-statistic: -0.8714\n",
      "P-value: 0.3836\n",
      "Fail to reject the null hypothesis: There is no significant difference between the two groups.\n"
     ]
    }
   ],
   "source": [
    "import numpy as np\n",
    "import pandas as pd\n",
    "import matplotlib.pyplot as plt\n",
    "import seaborn as sns\n",
    "from scipy.stats import ttest_ind\n",
    "\n",
    "# Step 1: Generate the Data\n",
    "np.random.seed(42)\n",
    "n_A = 1000  # Number of users in group A\n",
    "n_B = 1000  # Number of users in group B\n",
    "conversion_rate_A = 0.1\n",
    "conversion_rate_B = 0.12\n",
    "conversions_A = np.random.binomial(1, conversion_rate_A, n_A)\n",
    "conversions_B = np.random.binomial(1, conversion_rate_B, n_B)\n",
    "data = pd.DataFrame({\n",
    "    'Group': ['A'] * n_A + ['B'] * n_B,\n",
    "    'Converted': np.concatenate([conversions_A, conversions_B])\n",
    "})\n",
    "\n",
    "# Step 2: Perform EDA\n",
    "summary = data.groupby('Group').agg(\n",
    "    Conversion_Rate=('Converted', 'mean'),\n",
    "    Total_Users=('Converted', 'count'),\n",
    "    Total_Conversions=('Converted', 'sum')\n",
    ").reset_index()\n",
    "print(summary)\n",
    "sns.barplot(x='Group', y='Conversion_Rate', data=summary)\n",
    "plt.title('Conversion Rates by Group')\n",
    "plt.show()\n",
    "\n",
    "# Step 3: Conduct a Statistical Test\n",
    "group_A = data[data['Group'] == 'A']['Converted']\n",
    "group_B = data[data['Group'] == 'B']['Converted']\n",
    "t_stat, p_value = ttest_ind(group_A, group_B)\n",
    "print(f'T-statistic: {t_stat:.4f}')\n",
    "print(f'P-value: {p_value:.4f}')\n",
    "\n",
    "# Step 4: Draw Actionable Insights\n",
    "alpha = 0.05\n",
    "if p_value < alpha:\n",
    "    print(\"Reject the null hypothesis: There is a significant difference between the two groups.\")\n",
    "    if summary.loc[summary['Group'] == 'A', 'Conversion_Rate'].values[0] < summary.loc[summary['Group'] == 'B', 'Conversion_Rate'].values[0]:\n",
    "        print(\"Group B has a significantly higher conversion rate than Group A.\")\n",
    "    else:\n",
    "        print(\"Group A has a significantly higher conversion rate than Group B.\")\n",
    "else:\n",
    "    print(\"Fail to reject the null hypothesis: There is no significant difference between the two groups.\")\n"
   ]
  },
  {
   "cell_type": "code",
   "execution_count": null,
   "id": "f003a650",
   "metadata": {},
   "outputs": [],
   "source": []
  }
 ],
 "metadata": {
  "kernelspec": {
   "display_name": "Python 3 (ipykernel)",
   "language": "python",
   "name": "python3"
  },
  "language_info": {
   "codemirror_mode": {
    "name": "ipython",
    "version": 3
   },
   "file_extension": ".py",
   "mimetype": "text/x-python",
   "name": "python",
   "nbconvert_exporter": "python",
   "pygments_lexer": "ipython3",
   "version": "3.11.5"
  }
 },
 "nbformat": 4,
 "nbformat_minor": 5
}
